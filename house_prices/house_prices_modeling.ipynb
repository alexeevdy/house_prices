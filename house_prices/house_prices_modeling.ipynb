{
 "cells": [
  {
   "cell_type": "code",
   "execution_count": 1,
   "metadata": {},
   "outputs": [
    {
     "name": "stderr",
     "output_type": "stream",
     "text": [
      "C:\\Users\\HaKKe\\anaconda3\\lib\\site-packages\\tqdm\\std.py:658: FutureWarning: The Panel class is removed from pandas. Accessing it from the top-level namespace will also be removed in the next version\n",
      "  from pandas import Panel\n"
     ]
    }
   ],
   "source": [
    "import numpy as np\n",
    "import pandas as pd\n",
    "from scipy import stats\n",
    "\n",
    "from sklearn.metrics import mean_absolute_error, make_scorer\n",
    "from sklearn.model_selection import train_test_split, cross_val_score\n",
    "\n",
    "from tqdm import tqdm\n",
    "tqdm.pandas()\n",
    "\n",
    "import seaborn as sns\n",
    "sns.set(font_scale=1.5)\n",
    "\n",
    "import matplotlib.pyplot as plt\n",
    "import matplotlib.style as style\n",
    "%matplotlib inline\n",
    "\n",
    "import warnings\n",
    "warnings.filterwarnings(\"ignore\")"
   ]
  },
  {
   "cell_type": "code",
   "execution_count": 3,
   "metadata": {},
   "outputs": [],
   "source": [
    "X_train = pd.read_csv('dataset/X_train.csv')\n",
    "X_val = pd.read_csv('dataset/X_test.csv')"
   ]
  },
  {
   "cell_type": "code",
   "execution_count": 4,
   "metadata": {},
   "outputs": [],
   "source": [
    "y_train = X_train.iloc[:, -1]\n",
    "X_train = X_train.iloc[:, :-1]"
   ]
  },
  {
   "cell_type": "code",
   "execution_count": 5,
   "metadata": {},
   "outputs": [],
   "source": [
    "y_val = X_val.iloc[:, -1]\n",
    "X_val = X_val.iloc[:, :-1]"
   ]
  },
  {
   "cell_type": "code",
   "execution_count": 6,
   "metadata": {},
   "outputs": [
    {
     "data": {
      "text/html": [
       "<div>\n",
       "<style scoped>\n",
       "    .dataframe tbody tr th:only-of-type {\n",
       "        vertical-align: middle;\n",
       "    }\n",
       "\n",
       "    .dataframe tbody tr th {\n",
       "        vertical-align: top;\n",
       "    }\n",
       "\n",
       "    .dataframe thead th {\n",
       "        text-align: right;\n",
       "    }\n",
       "</style>\n",
       "<table border=\"1\" class=\"dataframe\">\n",
       "  <thead>\n",
       "    <tr style=\"text-align: right;\">\n",
       "      <th></th>\n",
       "      <th>id</th>\n",
       "      <th>date</th>\n",
       "      <th>street_id</th>\n",
       "      <th>build_tech</th>\n",
       "      <th>floor</th>\n",
       "      <th>area</th>\n",
       "      <th>rooms</th>\n",
       "      <th>balcon</th>\n",
       "      <th>metro_dist</th>\n",
       "      <th>g_lift</th>\n",
       "      <th>...</th>\n",
       "      <th>kw8</th>\n",
       "      <th>kw9</th>\n",
       "      <th>kw10</th>\n",
       "      <th>kw11</th>\n",
       "      <th>kw12</th>\n",
       "      <th>kw13</th>\n",
       "      <th>mean_square_root_price</th>\n",
       "      <th>avg_room_area</th>\n",
       "      <th>area_and_balcon</th>\n",
       "      <th>mean_street_floor_square_price</th>\n",
       "    </tr>\n",
       "  </thead>\n",
       "  <tbody>\n",
       "    <tr>\n",
       "      <th>0</th>\n",
       "      <td>0</td>\n",
       "      <td>2011-1</td>\n",
       "      <td>616</td>\n",
       "      <td>0.0</td>\n",
       "      <td>4</td>\n",
       "      <td>43</td>\n",
       "      <td>2</td>\n",
       "      <td>0</td>\n",
       "      <td>0.0</td>\n",
       "      <td>1.0</td>\n",
       "      <td>...</td>\n",
       "      <td>0</td>\n",
       "      <td>0</td>\n",
       "      <td>0</td>\n",
       "      <td>0</td>\n",
       "      <td>0</td>\n",
       "      <td>0</td>\n",
       "      <td>60749.113126</td>\n",
       "      <td>21.5</td>\n",
       "      <td>43.0</td>\n",
       "      <td>64713.953488</td>\n",
       "    </tr>\n",
       "    <tr>\n",
       "      <th>1</th>\n",
       "      <td>1</td>\n",
       "      <td>2011-1</td>\n",
       "      <td>112</td>\n",
       "      <td>0.0</td>\n",
       "      <td>3</td>\n",
       "      <td>33</td>\n",
       "      <td>1</td>\n",
       "      <td>0</td>\n",
       "      <td>15.0</td>\n",
       "      <td>1.0</td>\n",
       "      <td>...</td>\n",
       "      <td>0</td>\n",
       "      <td>0</td>\n",
       "      <td>0</td>\n",
       "      <td>0</td>\n",
       "      <td>0</td>\n",
       "      <td>0</td>\n",
       "      <td>70040.491118</td>\n",
       "      <td>33.0</td>\n",
       "      <td>33.0</td>\n",
       "      <td>61434.343434</td>\n",
       "    </tr>\n",
       "    <tr>\n",
       "      <th>2</th>\n",
       "      <td>2</td>\n",
       "      <td>2011-1</td>\n",
       "      <td>230</td>\n",
       "      <td>0.0</td>\n",
       "      <td>9</td>\n",
       "      <td>34</td>\n",
       "      <td>1</td>\n",
       "      <td>0</td>\n",
       "      <td>5.0</td>\n",
       "      <td>1.0</td>\n",
       "      <td>...</td>\n",
       "      <td>0</td>\n",
       "      <td>0</td>\n",
       "      <td>0</td>\n",
       "      <td>0</td>\n",
       "      <td>0</td>\n",
       "      <td>0</td>\n",
       "      <td>120319.574889</td>\n",
       "      <td>34.0</td>\n",
       "      <td>34.0</td>\n",
       "      <td>115369.747899</td>\n",
       "    </tr>\n",
       "    <tr>\n",
       "      <th>3</th>\n",
       "      <td>3</td>\n",
       "      <td>2011-1</td>\n",
       "      <td>302</td>\n",
       "      <td>1.0</td>\n",
       "      <td>4</td>\n",
       "      <td>60</td>\n",
       "      <td>3</td>\n",
       "      <td>0</td>\n",
       "      <td>15.0</td>\n",
       "      <td>0.0</td>\n",
       "      <td>...</td>\n",
       "      <td>0</td>\n",
       "      <td>0</td>\n",
       "      <td>0</td>\n",
       "      <td>0</td>\n",
       "      <td>0</td>\n",
       "      <td>0</td>\n",
       "      <td>67595.600000</td>\n",
       "      <td>20.0</td>\n",
       "      <td>60.0</td>\n",
       "      <td>68161.458333</td>\n",
       "    </tr>\n",
       "    <tr>\n",
       "      <th>4</th>\n",
       "      <td>4</td>\n",
       "      <td>2011-1</td>\n",
       "      <td>578</td>\n",
       "      <td>0.0</td>\n",
       "      <td>3</td>\n",
       "      <td>49</td>\n",
       "      <td>2</td>\n",
       "      <td>0</td>\n",
       "      <td>0.0</td>\n",
       "      <td>0.0</td>\n",
       "      <td>...</td>\n",
       "      <td>0</td>\n",
       "      <td>0</td>\n",
       "      <td>0</td>\n",
       "      <td>0</td>\n",
       "      <td>0</td>\n",
       "      <td>0</td>\n",
       "      <td>46023.349880</td>\n",
       "      <td>24.5</td>\n",
       "      <td>49.0</td>\n",
       "      <td>46278.571429</td>\n",
       "    </tr>\n",
       "  </tbody>\n",
       "</table>\n",
       "<p>5 rows × 28 columns</p>\n",
       "</div>"
      ],
      "text/plain": [
       "   id    date  street_id  build_tech  floor  area  rooms  balcon  metro_dist  \\\n",
       "0   0  2011-1        616         0.0      4    43      2       0         0.0   \n",
       "1   1  2011-1        112         0.0      3    33      1       0        15.0   \n",
       "2   2  2011-1        230         0.0      9    34      1       0         5.0   \n",
       "3   3  2011-1        302         1.0      4    60      3       0        15.0   \n",
       "4   4  2011-1        578         0.0      3    49      2       0         0.0   \n",
       "\n",
       "   g_lift  ...  kw8  kw9  kw10  kw11  kw12  kw13  mean_square_root_price  \\\n",
       "0     1.0  ...    0    0     0     0     0     0            60749.113126   \n",
       "1     1.0  ...    0    0     0     0     0     0            70040.491118   \n",
       "2     1.0  ...    0    0     0     0     0     0           120319.574889   \n",
       "3     0.0  ...    0    0     0     0     0     0            67595.600000   \n",
       "4     0.0  ...    0    0     0     0     0     0            46023.349880   \n",
       "\n",
       "   avg_room_area  area_and_balcon  mean_street_floor_square_price  \n",
       "0           21.5             43.0                    64713.953488  \n",
       "1           33.0             33.0                    61434.343434  \n",
       "2           34.0             34.0                   115369.747899  \n",
       "3           20.0             60.0                    68161.458333  \n",
       "4           24.5             49.0                    46278.571429  \n",
       "\n",
       "[5 rows x 28 columns]"
      ]
     },
     "execution_count": 6,
     "metadata": {},
     "output_type": "execute_result"
    }
   ],
   "source": [
    "X_train.head(5)"
   ]
  },
  {
   "cell_type": "code",
   "execution_count": 7,
   "metadata": {},
   "outputs": [],
   "source": [
    "from catboost import CatBoostRegressor"
   ]
  },
  {
   "cell_type": "code",
   "execution_count": 8,
   "metadata": {},
   "outputs": [],
   "source": [
    "cat_features = ['street_id', 'build_tech', 'balcon', 'date']\n",
    "X_train.drop(columns=['id'], axis=0, inplace=True)\n",
    "X_val.drop(columns=['id'], axis=0, inplace=True)"
   ]
  },
  {
   "cell_type": "code",
   "execution_count": 9,
   "metadata": {},
   "outputs": [],
   "source": [
    "X_train.build_tech = X_train.build_tech.astype(int)\n",
    "X_train.metro_dist = X_train.metro_dist.astype(int)"
   ]
  },
  {
   "cell_type": "code",
   "execution_count": 10,
   "metadata": {},
   "outputs": [],
   "source": [
    "X_val.build_tech = X_val.build_tech.astype(int)\n",
    "X_val.metro_dist = X_val.metro_dist.astype(int)"
   ]
  },
  {
   "cell_type": "code",
   "execution_count": 11,
   "metadata": {},
   "outputs": [],
   "source": [
    "Catboost = CatBoostRegressor(\n",
    "    depth=6,\n",
    "    n_estimators=1000,\n",
    "    learning_rate=0.03,\n",
    "    max_ctr_complexity=4,\n",
    "    leaf_estimation_iterations=5,\n",
    "    l2_leaf_reg=3,\n",
    "    bagging_temperature=1,\n",
    "    leaf_estimation_method='Newton',\n",
    "    cat_features=cat_features,\n",
    "    eval_metric='MAE',\n",
    ")"
   ]
  },
  {
   "cell_type": "code",
   "execution_count": 12,
   "metadata": {},
   "outputs": [
    {
     "name": "stdout",
     "output_type": "stream",
     "text": [
      "0:\tlearn: 2582247.1040332\ttest: 2836503.9910044\tbest: 2836503.9910044 (0)\ttotal: 187ms\tremaining: 3m 6s\n",
      "100:\tlearn: 849963.5227978\ttest: 1128635.0484014\tbest: 1128635.0484014 (100)\ttotal: 10.6s\tremaining: 1m 34s\n",
      "200:\tlearn: 705782.8075413\ttest: 999534.3057777\tbest: 998517.1597952 (197)\ttotal: 24.7s\tremaining: 1m 38s\n",
      "300:\tlearn: 632605.2679091\ttest: 942928.1263135\tbest: 942928.1263135 (300)\ttotal: 38.1s\tremaining: 1m 28s\n",
      "400:\tlearn: 576567.5918752\ttest: 899057.8634852\tbest: 899057.8634852 (400)\ttotal: 51.8s\tremaining: 1m 17s\n",
      "500:\tlearn: 538355.7823400\ttest: 874120.7055154\tbest: 874120.7055154 (500)\ttotal: 1m 4s\tremaining: 1m 4s\n",
      "600:\tlearn: 512479.7747196\ttest: 853323.1085379\tbest: 852789.4934990 (599)\ttotal: 1m 18s\tremaining: 51.8s\n",
      "700:\tlearn: 494371.6178123\ttest: 841126.7615332\tbest: 841126.7615332 (700)\ttotal: 1m 30s\tremaining: 38.8s\n",
      "800:\tlearn: 478219.6880390\ttest: 829334.7478146\tbest: 829334.7478146 (800)\ttotal: 1m 42s\tremaining: 25.5s\n",
      "900:\tlearn: 464394.6975354\ttest: 820686.9603955\tbest: 820675.9947018 (897)\ttotal: 1m 55s\tremaining: 12.7s\n",
      "999:\tlearn: 453363.8801926\ttest: 813741.3129532\tbest: 813512.4973107 (984)\ttotal: 2m 6s\tremaining: 0us\n",
      "\n",
      "bestTest = 813512.4973\n",
      "bestIteration = 984\n",
      "\n",
      "Shrink model to first 985 iterations.\n"
     ]
    },
    {
     "data": {
      "text/plain": [
       "<catboost.core.CatBoostRegressor at 0x1f2557b7d48>"
      ]
     },
     "execution_count": 12,
     "metadata": {},
     "output_type": "execute_result"
    }
   ],
   "source": [
    "Catboost.fit(\n",
    "    X_train,\n",
    "    y_train,\n",
    "    eval_set=[(X_val, y_val)],\n",
    "    verbose=100,\n",
    ")"
   ]
  },
  {
   "cell_type": "code",
   "execution_count": 13,
   "metadata": {},
   "outputs": [],
   "source": [
    "y_pred = Catboost.predict(X_val)\n",
    "coef = np.mean(y_val/y_pred)"
   ]
  },
  {
   "cell_type": "code",
   "execution_count": 14,
   "metadata": {},
   "outputs": [
    {
     "data": {
      "text/plain": [
       "550846.3526445916"
      ]
     },
     "execution_count": 14,
     "metadata": {},
     "output_type": "execute_result"
    }
   ],
   "source": [
    "mean_absolute_error(y_val, y_pred*coef)"
   ]
  },
  {
   "cell_type": "code",
   "execution_count": 15,
   "metadata": {},
   "outputs": [],
   "source": [
    "Train = pd.read_csv('dataset/Train_f.csv')\n",
    "Test = pd.read_csv('dataset/Test_f.csv')"
   ]
  },
  {
   "cell_type": "code",
   "execution_count": 17,
   "metadata": {},
   "outputs": [],
   "source": [
    "target = Train.price\n",
    "Train.drop(columns=['id', 'price'], axis=0, inplace=True)\n",
    "Test.drop(columns=['id'], axis=0, inplace=True)"
   ]
  },
  {
   "cell_type": "code",
   "execution_count": 18,
   "metadata": {},
   "outputs": [],
   "source": [
    "Train.build_tech = Train.build_tech.astype(int)\n",
    "Train.metro_dist = Train.metro_dist.astype(int)"
   ]
  },
  {
   "cell_type": "code",
   "execution_count": 19,
   "metadata": {},
   "outputs": [],
   "source": [
    "Test.build_tech = Test.build_tech.astype(int)\n",
    "Test.metro_dist = Test.metro_dist.astype(int)"
   ]
  },
  {
   "cell_type": "code",
   "execution_count": 21,
   "metadata": {},
   "outputs": [
    {
     "name": "stdout",
     "output_type": "stream",
     "text": [
      "0:\tlearn: 2656830.0056109\ttotal: 119ms\tremaining: 1m 59s\n",
      "100:\tlearn: 874781.4736265\ttotal: 10.4s\tremaining: 1m 32s\n",
      "200:\tlearn: 712743.9535773\ttotal: 21.6s\tremaining: 1m 25s\n",
      "300:\tlearn: 638722.5282593\ttotal: 36.2s\tremaining: 1m 23s\n",
      "400:\tlearn: 584516.6889713\ttotal: 49.8s\tremaining: 1m 14s\n",
      "500:\tlearn: 549770.0854802\ttotal: 1m 2s\tremaining: 1m 2s\n",
      "600:\tlearn: 524800.3635548\ttotal: 1m 15s\tremaining: 50.2s\n",
      "700:\tlearn: 505313.8312938\ttotal: 1m 28s\tremaining: 37.8s\n",
      "800:\tlearn: 492033.9193854\ttotal: 1m 42s\tremaining: 25.4s\n",
      "900:\tlearn: 478974.8247241\ttotal: 1m 55s\tremaining: 12.7s\n",
      "999:\tlearn: 468669.7007672\ttotal: 2m 8s\tremaining: 0us\n"
     ]
    },
    {
     "data": {
      "text/plain": [
       "<catboost.core.CatBoostRegressor at 0x1f2557b7d48>"
      ]
     },
     "execution_count": 21,
     "metadata": {},
     "output_type": "execute_result"
    }
   ],
   "source": [
    "Catboost.fit(\n",
    "    X=Train,\n",
    "    y=target,\n",
    "    verbose=100,\n",
    ")"
   ]
  },
  {
   "cell_type": "code",
   "execution_count": 26,
   "metadata": {},
   "outputs": [],
   "source": [
    "submission = pd.read_csv('dataset/property-prices/SampleSubmission.csv')\n",
    "submission['price'] = np.round(coef * Catboost.predict(Test), -3)"
   ]
  },
  {
   "cell_type": "code",
   "execution_count": 28,
   "metadata": {},
   "outputs": [
    {
     "data": {
      "text/plain": [
       "5904740.43"
      ]
     },
     "execution_count": 28,
     "metadata": {},
     "output_type": "execute_result"
    }
   ],
   "source": [
    "submission['price'].mean()"
   ]
  },
  {
   "cell_type": "code",
   "execution_count": 27,
   "metadata": {},
   "outputs": [],
   "source": [
    "submission.to_csv('submission_1.csv', index=None)"
   ]
  },
  {
   "cell_type": "markdown",
   "metadata": {},
   "source": [
    "**submission_0**: zeros only *5851954.56518* error <br>\n",
    "**submission_1**: catboost: \n",
    "Catboost = CatBoostRegressor(\n",
    "    depth=6,\n",
    "    n_estimators=1000,\n",
    "    learning_rate=0.03,\n",
    "    max_ctr_complexity=4,\n",
    "    leaf_estimation_iterations=5,\n",
    "    l2_leaf_reg=3,\n",
    "    bagging_temperature=1,\n",
    "    leaf_estimation_method='Newton',\n",
    "    cat_features=cat_features,\n",
    "    eval_metric='MAE',\n",
    ") *820071.17342*"
   ]
  },
  {
   "cell_type": "code",
   "execution_count": null,
   "metadata": {},
   "outputs": [],
   "source": []
  }
 ],
 "metadata": {
  "kernelspec": {
   "display_name": "Python 3",
   "language": "python",
   "name": "python3"
  },
  "language_info": {
   "codemirror_mode": {
    "name": "ipython",
    "version": 3
   },
   "file_extension": ".py",
   "mimetype": "text/x-python",
   "name": "python",
   "nbconvert_exporter": "python",
   "pygments_lexer": "ipython3",
   "version": "3.7.6"
  }
 },
 "nbformat": 4,
 "nbformat_minor": 4
}
